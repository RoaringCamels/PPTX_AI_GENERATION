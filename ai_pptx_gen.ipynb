{
 "cells": [
  {
   "cell_type": "code",
   "execution_count": 1,
   "id": "b13a0887",
   "metadata": {},
   "outputs": [
    {
     "name": "stdout",
     "output_type": "stream",
     "text": [
      "Slide 1: Introduction to Renewable Energy\n",
      "- Explanation of what renewable energy is.\n",
      "- Different types of renewable energy (solar, wind, hydro, etc.)\n",
      "- Brief statement on the current state of renewable energy.\n",
      "\n",
      "Slide 2: The Importance of Renewable Energy\n",
      "- Role of renewable energy in reducing greenhouse gas emissions.\n",
      "- Contribution to energy security and independence.\n",
      "- Economic benefits: job creation, investment opportunities.\n",
      "\n",
      "Slide 3: Technological Advances in Renewable Energy\n",
      "- Progress made in solar, wind, hydro, and bio-energy technologies.\n",
      "- Potential of 'emerging tech,' such as wave and tidal energy.\n",
      "- Increased efficiency and reduced costs due to technological improvements.\n",
      "\n",
      "Slide 4: Sustainability of Renewable Energy\n",
      "- Low environmental footprint compared to conventional power sources.\n",
      "- Resources are free and naturally replenished.\n",
      "- Discussion on the long-term sustainability of renewables.\n",
      "\n",
      "Slide 5: Challenges Faced by Renewable Energy\n",
      "- Problems with reliability and variability of wind and solar power.\n",
      "- High upfront costs and longer payback periods.\n",
      "- Need for grid upgrades and energy storage solutions.\n",
      "\n",
      "Slide 6: Future Trends in Renewable Energy\n",
      "- Expected growth in solar and wind capacity globally.\n",
      "- Innovations in energy storage technology (like better batteries).\n",
      "- Rise of green hydrogen and its potential in renewable energy sector.\n",
      "\n",
      "Slide 7: Role of Policy in Shaping the Future of Renewable Energy\n",
      "- The significance of governmental policies in advancing renewable energy.\n",
      "- Overview of international agreements and targets (Paris Agreement, etc.)\n",
      "- Opportunities for individuals to influence policy, like voting and advocacy.\n",
      "\n"
     ]
    }
   ],
   "source": [
    "from openai import OpenAI\n",
    "from dotenv import load_dotenv\n",
    "import os\n",
    "\n",
    "load_dotenv()\n",
    "client = OpenAI(api_key=os.getenv(\"OPENAI_API_KEY\"))\n",
    "\n",
    "response = client.chat.completions.create(\n",
    "    model=\"gpt-4\",\n",
    "    messages=[\n",
    "        {\n",
    "            \"role\": \"user\",\n",
    "            \"content\": \"Create a 7-slide PowerPoint presentation on the topic: 'The Future of Renewable Energy'. Each slide should have a title and 3–5 bullet points.\"\n",
    "        }\n",
    "    ]\n",
    ")\n",
    "\n",
    "slide_text = response.choices[0].message.content\n",
    "print(slide_text)\n"
   ]
  },
  {
   "cell_type": "code",
   "execution_count": 2,
   "id": "321d06bd",
   "metadata": {},
   "outputs": [],
   "source": [
    "def parse_slides(gpt_output):\n",
    "    slides = []\n",
    "    current_slide = {\"title\": \"\", \"content\": []}\n",
    "\n",
    "    for line in gpt_output.strip().splitlines():\n",
    "        if line.lower().startswith(\"slide\"):\n",
    "            if current_slide[\"title\"]:\n",
    "                slides.append(current_slide)\n",
    "                current_slide = {\"title\": \"\", \"content\": []}\n",
    "            current_slide[\"title\"] = line.split(\":\", 1)[-1].strip()\n",
    "        elif line.strip().startswith(\"-\"):\n",
    "            current_slide[\"content\"].append(line.strip(\"- \").strip())\n",
    "\n",
    "    if current_slide[\"title\"]:\n",
    "        slides.append(current_slide)\n",
    "\n",
    "    return slides\n",
    "\n",
    "from pptx import Presentation\n",
    "\n",
    "def create_presentation(slides, filename=\"renewable_energy.pptx\"):\n",
    "    prs = Presentation()\n",
    "\n",
    "    for slide_data in slides:\n",
    "        slide = prs.slides.add_slide(prs.slide_layouts[1])  # Title and Content\n",
    "        slide.shapes.title.text = slide_data[\"title\"]\n",
    "        content_box = slide.placeholders[1]\n",
    "        content_box.text = \"\\n\".join(slide_data[\"content\"])\n",
    "\n",
    "    prs.save(filename)\n",
    "    print(f\"✅ Saved presentation to: {filename}\")\n",
    "\n"
   ]
  },
  {
   "cell_type": "code",
   "execution_count": 3,
   "id": "95ca9b24",
   "metadata": {},
   "outputs": [
    {
     "name": "stdout",
     "output_type": "stream",
     "text": [
      "✅ Saved presentation to: renewable_energy.pptx\n"
     ]
    }
   ],
   "source": [
    "# Step 2: Parse the text into structured slides\n",
    "slides_content = parse_slides(slide_text)\n",
    "\n",
    "# Step 3: Generate the .pptx file\n",
    "create_presentation(slides_content, \"renewable_energy.pptx\")\n"
   ]
  }
 ],
 "metadata": {
  "kernelspec": {
   "display_name": "venv",
   "language": "python",
   "name": "python3"
  },
  "language_info": {
   "codemirror_mode": {
    "name": "ipython",
    "version": 3
   },
   "file_extension": ".py",
   "mimetype": "text/x-python",
   "name": "python",
   "nbconvert_exporter": "python",
   "pygments_lexer": "ipython3",
   "version": "3.10.11"
  }
 },
 "nbformat": 4,
 "nbformat_minor": 5
}
