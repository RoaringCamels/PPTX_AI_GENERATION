{
 "cells": [
  {
   "cell_type": "code",
   "execution_count": 1,
   "id": "b13a0887",
   "metadata": {},
   "outputs": [
    {
     "name": "stdout",
     "output_type": "stream",
     "text": [
      "Slide 1: Understanding Cholesterol \n",
      "- Definition of cholesterol and its function in the body.\n",
      "- Difference between good (HDL) and bad (LDL) cholesterol.\n",
      "- Overview of cholesterol levels and implications for health.\n",
      "\n",
      "Slide 2: Dietary Sources of Cholesterol\n",
      "- List of common foods high in cholesterol.\n",
      "- Explanation of how certain types of food raise LDL levels.\n",
      "- Discussion of the different types of fats, including trans fats and saturated fats.\n",
      "\n",
      "Slide 3: Health Risks Associated with High Cholesterol Intake\n",
      "- Explanation of how high cholesterol intake can lead to heart disease.\n",
      "- Details about the link between cholesterol, plaque development, and atherosclerosis.\n",
      "- Discussion of other health conditions associated with high cholesterol levels, such as stroke and coronary heart disease.\n",
      "\n",
      "Slide 4: Guidelines for Healthy Cholesterol Intake \n",
      "- Guidelines for daily cholesterol intake.\n",
      "- Benefits of a balanced diet rich in fiber and plant sterols.\n",
      "- Importance of regular exercise and maintaining healthy body weight.\n",
      "\n",
      "Slide 5: Managing High Cholesterol Through Diet\n",
      "- Tips for reducing dietary cholesterol, such as choosing lean meats, eating more fruits and veggies, and avoiding trans fats.\n",
      "- Recommendations for dietary changes, including incorporation of foods that help lower cholesterol.\n",
      "- Suggestion of regular health check-ups to monitor cholesterol levels.\n"
     ]
    }
   ],
   "source": [
    "from openai import OpenAI\n",
    "from dotenv import load_dotenv\n",
    "import os\n",
    "\n",
    "load_dotenv()\n",
    "client = OpenAI(api_key=os.getenv(\"OPENAI_API_KEY\"))\n",
    "\n",
    "numSlides = \"5\"\n",
    "topic = \"Cholesterol intake\"\n",
    "bulletPoints = \"1-3\"\n",
    "\n",
    "response = client.chat.completions.create(\n",
    "    model=\"gpt-4\",\n",
    "    messages=[\n",
    "        {\n",
    "            \"role\": \"user\",\n",
    "            \"content\": f\"Create a {numSlides}-slide PowerPoint presentation on the topic: '{topic}'. Each slide should have a title and {bulletPoints} bullet points.\"\n",
    "        }\n",
    "    ]\n",
    ")\n",
    "\n",
    "slide_text = response.choices[0].message.content\n",
    "print(slide_text)\n"
   ]
  },
  {
   "cell_type": "code",
   "execution_count": 2,
   "id": "98c45270",
   "metadata": {},
   "outputs": [],
   "source": [
    "with open (\"presentation_output.txt\", \"w\", encoding=\"utf-8\") as f:\n",
    "    f.write(slide_text)"
   ]
  },
  {
   "cell_type": "code",
   "execution_count": 3,
   "id": "321d06bd",
   "metadata": {},
   "outputs": [],
   "source": [
    "def parse_slides(gpt_output):\n",
    "    slides = []\n",
    "    current_slide = {\"title\": \"\", \"content\": []}\n",
    "\n",
    "    for line in gpt_output.strip().splitlines():\n",
    "        if line.lower().startswith(\"slide\"):\n",
    "            if current_slide[\"title\"]:\n",
    "                slides.append(current_slide)\n",
    "                current_slide = {\"title\": \"\", \"content\": []}\n",
    "            current_slide[\"title\"] = line.split(\":\", 1)[-1].strip()\n",
    "        elif line.strip().startswith(\"-\"):\n",
    "            current_slide[\"content\"].append(line.strip(\"- \").strip())\n",
    "\n",
    "    if current_slide[\"title\"]:\n",
    "        slides.append(current_slide)\n",
    "\n",
    "    return slides\n",
    "\n",
    "from pptx import Presentation\n",
    "\n",
    "def create_presentation(slides, filename=\"renewable_energy.pptx\"):\n",
    "    prs = Presentation()\n",
    "\n",
    "    for slide_data in slides:\n",
    "        slide = prs.slides.add_slide(prs.slide_layouts[1])  # Title and Content\n",
    "        slide.shapes.title.text = slide_data[\"title\"]\n",
    "        content_box = slide.placeholders[1]\n",
    "        content_box.text = \"\\n\".join(slide_data[\"content\"])\n",
    "\n",
    "    prs.save(filename)\n",
    "    print(f\"✅ Saved presentation to: {filename}\")\n",
    "\n"
   ]
  },
  {
   "cell_type": "code",
   "execution_count": 4,
   "id": "95ca9b24",
   "metadata": {},
   "outputs": [
    {
     "name": "stdout",
     "output_type": "stream",
     "text": [
      "✅ Saved presentation to: sample.pptx\n"
     ]
    }
   ],
   "source": [
    "# Step 2: Parse the text into structured slides\n",
    "slides_content = parse_slides(slide_text)\n",
    "\n",
    "# Step 3: Generate the .pptx file\n",
    "create_presentation(slides_content, \"sample.pptx\")\n"
   ]
  }
 ],
 "metadata": {
  "kernelspec": {
   "display_name": "venv",
   "language": "python",
   "name": "python3"
  },
  "language_info": {
   "codemirror_mode": {
    "name": "ipython",
    "version": 3
   },
   "file_extension": ".py",
   "mimetype": "text/x-python",
   "name": "python",
   "nbconvert_exporter": "python",
   "pygments_lexer": "ipython3",
   "version": "3.10.11"
  }
 },
 "nbformat": 4,
 "nbformat_minor": 5
}
