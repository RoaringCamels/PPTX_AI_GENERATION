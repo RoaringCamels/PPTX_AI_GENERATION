{
 "cells": [
  {
   "cell_type": "code",
   "execution_count": 2,
   "id": "81ff4dac",
   "metadata": {},
   "outputs": [
    {
     "name": "stdout",
     "output_type": "stream",
     "text": [
      "Based on the provided transcript and PowerPoint Slides, the analysis is as follows:\n",
      "\n",
      "1) Student Participation:\n",
      "Five students participated in the class discussion at different stages. Student 1 participated twice, while Students 2, 3, 4 and 5 participated once each.\n",
      "\n",
      "2) On-topic Discussions:\n",
      "All the questions related by the students were aligned with the topic under discussion - Newton's Second Law of Motion.\n",
      "\n",
      "3) Signs of Confusion, Curiosity or Lack of Engagement:\n",
      "Student 2 demonstrated confusion as he/she misunderstood the relationship between force and acceleration. Student 4 seemed slightly unsure guessing whether the relationship between force and acceleration is linear. Student 5 demonstrated curiosity when observing the simulation and deducing that the lighter cart goes faster. Student 3 asked for further explanation about the units, showing some confusion or lack thereof of prior information.\n",
      "\n",
      "4) Logical Discussion Following Slide Content:\n",
      "The discussion, though logical, does not follow the provided PowerPoint slides at all. The slides appear to be about understanding and managing cholesterol, while the class discussion revolves around Newton's Second Law of Motion. The slides and the discussion content do not match.\n"
     ]
    }
   ],
   "source": [
    "from openai import OpenAI\n",
    "import os\n",
    "from dotenv import load_dotenv\n",
    "\n",
    "load_dotenv()\n",
    "client = OpenAI(api_key=os.getenv(\"OPENAI_API_KEY\"))\n",
    "\n",
    "with open(\"sample_text.txt\", \"r\", encoding=\"utf-8\") as f:\n",
    "    transcript = f.read()\n",
    "\n",
    "with open(\"presentation_output.txt\", \"r\", encoding=\"utf-8\") as f:\n",
    "    slide_summary = f.read()\n",
    "\n",
    "prompt = f\"\"\"\n",
    "You are an education assistant. Analyze the following classroom transcript in the context of the provided PowerPoint slides. Identify:\n",
    "\n",
    "- How often students participated\n",
    "- Whether their questions were on-topic\n",
    "- Any signs of confusion, curiosity, or lack of engagement\n",
    "- If the discussion followed the slide content logically\n",
    "\n",
    "Transcript:\n",
    "{transcript}\n",
    "\n",
    "Slides:\n",
    "{slide_summary}\n",
    "\"\"\"\n",
    "\n",
    "response = client.chat.completions.create(\n",
    "    model=\"gpt-4\",\n",
    "    messages=[{\"role\": \"user\", \"content\": prompt}]\n",
    ")\n",
    "\n",
    "print(response.choices[0].message.content)\n"
   ]
  }
 ],
 "metadata": {
  "kernelspec": {
   "display_name": "venv",
   "language": "python",
   "name": "python3"
  },
  "language_info": {
   "codemirror_mode": {
    "name": "ipython",
    "version": 3
   },
   "file_extension": ".py",
   "mimetype": "text/x-python",
   "name": "python",
   "nbconvert_exporter": "python",
   "pygments_lexer": "ipython3",
   "version": "3.10.11"
  }
 },
 "nbformat": 4,
 "nbformat_minor": 5
}
