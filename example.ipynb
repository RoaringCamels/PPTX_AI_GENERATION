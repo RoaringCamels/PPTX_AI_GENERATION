{
 "cells": [
  {
   "cell_type": "code",
   "execution_count": 2,
   "id": "b13a0887",
   "metadata": {},
   "outputs": [],
   "source": [
    "# Step 1: Import the library\n",
    "from pptx import Presentation\n",
    "\n",
    "# Step 2: Define your subject and description\n",
    "subject = \"The Future of Renewable Energy\"\n",
    "description = (\n",
    "    \"An overview of current trends, technologies, and projections for the role \"\n",
    "    \"of renewable energy sources in global power generation over the next few decades.\"\n",
    ")\n",
    "\n",
    "# Step 3: Prepare the slide content manually or later via OpenAI API\n",
    "slides_content = [\n",
    "    {\n",
    "        \"title\": \"Introduction\",\n",
    "        \"content\": [\n",
    "            \"Importance of renewable energy in combating climate change\",\n",
    "            \"Current reliance on fossil fuels\",\n",
    "            \"Global initiatives pushing for cleaner energy sources\"\n",
    "        ]\n",
    "    },\n",
    "    {\n",
    "        \"title\": \"Types of Renewable Energy\",\n",
    "        \"content\": [\n",
    "            \"Solar power: Photovoltaic and solar thermal\",\n",
    "            \"Wind energy: Onshore and offshore\",\n",
    "            \"Hydropower: Dams and tidal energy\",\n",
    "            \"Geothermal and biomass energy\"\n",
    "        ]\n",
    "    },\n",
    "    {\n",
    "        \"title\": \"Technological Advancements\",\n",
    "        \"content\": [\n",
    "            \"Efficiency improvements in solar panels and wind turbines\",\n",
    "            \"Energy storage solutions like advanced batteries\",\n",
    "            \"Smart grids and AI for energy distribution\"\n",
    "        ]\n",
    "    },\n",
    "    {\n",
    "        \"title\": \"Global Trends and Policies\",\n",
    "        \"content\": [\n",
    "            \"Government subsidies and incentives\",\n",
    "            \"International climate agreements\",\n",
    "            \"Corporate investments in green technologies\"\n",
    "        ]\n",
    "    },\n",
    "    {\n",
    "        \"title\": \"Challenges Ahead\",\n",
    "        \"content\": [\n",
    "            \"Intermittency of solar and wind power\",\n",
    "            \"High initial investment costs\",\n",
    "            \"Land use and environmental impact concerns\"\n",
    "        ]\n",
    "    },\n",
    "    {\n",
    "        \"title\": \"Future Projections\",\n",
    "        \"content\": [\n",
    "            \"Expected growth in renewable energy share\",\n",
    "            \"Role of developing countries\",\n",
    "            \"Technological innovations on the horizon\"\n",
    "        ]\n",
    "    },\n",
    "    {\n",
    "        \"title\": \"Conclusion\",\n",
    "        \"content\": [\n",
    "            \"Renewable energy is vital for a sustainable future\",\n",
    "            \"Continuous investment and innovation are key\",\n",
    "            \"Collaboration across sectors is essential\"\n",
    "        ]\n",
    "    }\n",
    "]\n"
   ]
  },
  {
   "cell_type": "code",
   "execution_count": 3,
   "id": "321d06bd",
   "metadata": {},
   "outputs": [],
   "source": [
    "# Step 4: Create and populate the presentation\n",
    "prs = Presentation()\n",
    "\n",
    "for slide_data in slides_content:\n",
    "    slide = prs.slides.add_slide(prs.slide_layouts[1])  # Title and Content layout\n",
    "    slide.shapes.title.text = slide_data[\"title\"]\n",
    "    content_box = slide.placeholders[1]\n",
    "    content_box.text = \"\\n\".join(slide_data[\"content\"])\n"
   ]
  },
  {
   "cell_type": "code",
   "execution_count": 4,
   "id": "95ca9b24",
   "metadata": {},
   "outputs": [
    {
     "name": "stdout",
     "output_type": "stream",
     "text": [
      "Presentation saved as: ExampleSlides.pptx\n"
     ]
    }
   ],
   "source": [
    "# Step 5: Save the PowerPoint file\n",
    "output_file = \"ExampleSlides.pptx\"\n",
    "prs.save(output_file)\n",
    "\n",
    "print(f\"Presentation saved as: {output_file}\")\n"
   ]
  }
 ],
 "metadata": {
  "kernelspec": {
   "display_name": "venv",
   "language": "python",
   "name": "python3"
  },
  "language_info": {
   "codemirror_mode": {
    "name": "ipython",
    "version": 3
   },
   "file_extension": ".py",
   "mimetype": "text/x-python",
   "name": "python",
   "nbconvert_exporter": "python",
   "pygments_lexer": "ipython3",
   "version": "3.10.11"
  }
 },
 "nbformat": 4,
 "nbformat_minor": 5
}
